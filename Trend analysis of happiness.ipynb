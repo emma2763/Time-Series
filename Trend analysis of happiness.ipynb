{
  "cells": [
    {
      "cell_type": "markdown",
      "metadata": {
        "id": "YSrQp9PDkNpJ"
      },
      "source": [
        "# Lab 1 Trend Analysis\n"
      ]
    },
    {
      "cell_type": "code",
      "execution_count": null,
      "metadata": {
        "id": "t2d9jiQjkNpN"
      },
      "outputs": [],
      "source": [
        "import pandas as pd\n",
        "import numpy as np\n",
        "import seaborn as sns\n",
        "import matplotlib.pyplot as plt\n",
        "%matplotlib inline"
      ]
    },
    {
      "cell_type": "markdown",
      "metadata": {
        "id": "gBvlBmAikNpP"
      },
      "source": [
        "## 1. Variable of interest: 'happy'\n"
      ]
    },
    {
      "cell_type": "markdown",
      "metadata": {
        "id": "NsuvbEfbkNpQ"
      },
      "source": [
        "I want to take a look at how people feel about happiness changes over time. The question is asked as following:\n",
        "Taken all together, how would you say things are these days - would you say that you are very happy, pretty happy, or not too happy?\n",
        "1\tVERY HAPPY\n",
        "2\tPRETTY HAPPY\n",
        "3\tNOT TOO HAPPY\n"
      ]
    },
    {
      "cell_type": "code",
      "execution_count": null,
      "metadata": {
        "id": "FnR7YXVZkNpQ"
      },
      "outputs": [],
      "source": [
        "# read in data from the trends-gss.csv file\n",
        "gss = pd.read_csv(\"trends-gss.csv\")"
      ]
    },
    {
      "cell_type": "code",
      "source": [
        "gss.shape"
      ],
      "metadata": {
        "colab": {
          "base_uri": "https://localhost:8080/"
        },
        "id": "fQfGZOzHB4wK",
        "outputId": "c762ce93-081a-47ce-8371-c1ab5673eff5"
      },
      "execution_count": null,
      "outputs": [
        {
          "output_type": "execute_result",
          "data": {
            "text/plain": [
              "(57061, 297)"
            ]
          },
          "metadata": {},
          "execution_count": 39
        }
      ]
    },
    {
      "cell_type": "code",
      "execution_count": null,
      "metadata": {
        "id": "-Avhi9RdkNpQ"
      },
      "outputs": [],
      "source": [
        "# keep only the 'happy', 'year', 'sex' variables\n",
        "sub = gss[['happy', 'year', 'sex']]\n",
        "\n",
        "# drop missing values\n",
        "sub = sub.dropna()"
      ]
    },
    {
      "cell_type": "code",
      "source": [
        "sub.shape"
      ],
      "metadata": {
        "colab": {
          "base_uri": "https://localhost:8080/"
        },
        "id": "DB9CXy3T_6oh",
        "outputId": "a4a01079-6131-400e-aa93-b9ce2f2a5e82"
      },
      "execution_count": null,
      "outputs": [
        {
          "output_type": "execute_result",
          "data": {
            "text/plain": [
              "(10554, 4)"
            ]
          },
          "metadata": {},
          "execution_count": 38
        }
      ]
    },
    {
      "cell_type": "code",
      "source": [
        "# Reverse-code happy so that a larger number indicates more happiness\n",
        "sub['n_happy'] = sub['happy'].replace([1, 3], [3, 1])"
      ],
      "metadata": {
        "id": "DrCmj_Sf8fd6"
      },
      "execution_count": null,
      "outputs": []
    },
    {
      "cell_type": "markdown",
      "source": [
        "Explore data"
      ],
      "metadata": {
        "id": "47X8cl8R2N7x"
      }
    },
    {
      "cell_type": "code",
      "source": [
        "sub.head()"
      ],
      "metadata": {
        "colab": {
          "base_uri": "https://localhost:8080/",
          "height": 206
        },
        "id": "_-f0NAkK17EY",
        "outputId": "0e85c2ff-6719-4605-b646-4b1318b5de5c"
      },
      "execution_count": null,
      "outputs": [
        {
          "output_type": "execute_result",
          "data": {
            "text/plain": [
              "   happy    year  sex  n_happy\n",
              "0    3.0  1972.0  2.0      1.0\n",
              "1    3.0  1972.0  1.0      1.0\n",
              "2    2.0  1972.0  2.0      2.0\n",
              "3    3.0  1972.0  2.0      1.0\n",
              "4    2.0  1972.0  2.0      2.0"
            ],
            "text/html": [
              "\n",
              "  <div id=\"df-9bfa35a1-b152-4ffa-99eb-90e06059b7bf\">\n",
              "    <div class=\"colab-df-container\">\n",
              "      <div>\n",
              "<style scoped>\n",
              "    .dataframe tbody tr th:only-of-type {\n",
              "        vertical-align: middle;\n",
              "    }\n",
              "\n",
              "    .dataframe tbody tr th {\n",
              "        vertical-align: top;\n",
              "    }\n",
              "\n",
              "    .dataframe thead th {\n",
              "        text-align: right;\n",
              "    }\n",
              "</style>\n",
              "<table border=\"1\" class=\"dataframe\">\n",
              "  <thead>\n",
              "    <tr style=\"text-align: right;\">\n",
              "      <th></th>\n",
              "      <th>happy</th>\n",
              "      <th>year</th>\n",
              "      <th>sex</th>\n",
              "      <th>n_happy</th>\n",
              "    </tr>\n",
              "  </thead>\n",
              "  <tbody>\n",
              "    <tr>\n",
              "      <th>0</th>\n",
              "      <td>3.0</td>\n",
              "      <td>1972.0</td>\n",
              "      <td>2.0</td>\n",
              "      <td>1.0</td>\n",
              "    </tr>\n",
              "    <tr>\n",
              "      <th>1</th>\n",
              "      <td>3.0</td>\n",
              "      <td>1972.0</td>\n",
              "      <td>1.0</td>\n",
              "      <td>1.0</td>\n",
              "    </tr>\n",
              "    <tr>\n",
              "      <th>2</th>\n",
              "      <td>2.0</td>\n",
              "      <td>1972.0</td>\n",
              "      <td>2.0</td>\n",
              "      <td>2.0</td>\n",
              "    </tr>\n",
              "    <tr>\n",
              "      <th>3</th>\n",
              "      <td>3.0</td>\n",
              "      <td>1972.0</td>\n",
              "      <td>2.0</td>\n",
              "      <td>1.0</td>\n",
              "    </tr>\n",
              "    <tr>\n",
              "      <th>4</th>\n",
              "      <td>2.0</td>\n",
              "      <td>1972.0</td>\n",
              "      <td>2.0</td>\n",
              "      <td>2.0</td>\n",
              "    </tr>\n",
              "  </tbody>\n",
              "</table>\n",
              "</div>\n",
              "      <button class=\"colab-df-convert\" onclick=\"convertToInteractive('df-9bfa35a1-b152-4ffa-99eb-90e06059b7bf')\"\n",
              "              title=\"Convert this dataframe to an interactive table.\"\n",
              "              style=\"display:none;\">\n",
              "        \n",
              "  <svg xmlns=\"http://www.w3.org/2000/svg\" height=\"24px\"viewBox=\"0 0 24 24\"\n",
              "       width=\"24px\">\n",
              "    <path d=\"M0 0h24v24H0V0z\" fill=\"none\"/>\n",
              "    <path d=\"M18.56 5.44l.94 2.06.94-2.06 2.06-.94-2.06-.94-.94-2.06-.94 2.06-2.06.94zm-11 1L8.5 8.5l.94-2.06 2.06-.94-2.06-.94L8.5 2.5l-.94 2.06-2.06.94zm10 10l.94 2.06.94-2.06 2.06-.94-2.06-.94-.94-2.06-.94 2.06-2.06.94z\"/><path d=\"M17.41 7.96l-1.37-1.37c-.4-.4-.92-.59-1.43-.59-.52 0-1.04.2-1.43.59L10.3 9.45l-7.72 7.72c-.78.78-.78 2.05 0 2.83L4 21.41c.39.39.9.59 1.41.59.51 0 1.02-.2 1.41-.59l7.78-7.78 2.81-2.81c.8-.78.8-2.07 0-2.86zM5.41 20L4 18.59l7.72-7.72 1.47 1.35L5.41 20z\"/>\n",
              "  </svg>\n",
              "      </button>\n",
              "      \n",
              "  <style>\n",
              "    .colab-df-container {\n",
              "      display:flex;\n",
              "      flex-wrap:wrap;\n",
              "      gap: 12px;\n",
              "    }\n",
              "\n",
              "    .colab-df-convert {\n",
              "      background-color: #E8F0FE;\n",
              "      border: none;\n",
              "      border-radius: 50%;\n",
              "      cursor: pointer;\n",
              "      display: none;\n",
              "      fill: #1967D2;\n",
              "      height: 32px;\n",
              "      padding: 0 0 0 0;\n",
              "      width: 32px;\n",
              "    }\n",
              "\n",
              "    .colab-df-convert:hover {\n",
              "      background-color: #E2EBFA;\n",
              "      box-shadow: 0px 1px 2px rgba(60, 64, 67, 0.3), 0px 1px 3px 1px rgba(60, 64, 67, 0.15);\n",
              "      fill: #174EA6;\n",
              "    }\n",
              "\n",
              "    [theme=dark] .colab-df-convert {\n",
              "      background-color: #3B4455;\n",
              "      fill: #D2E3FC;\n",
              "    }\n",
              "\n",
              "    [theme=dark] .colab-df-convert:hover {\n",
              "      background-color: #434B5C;\n",
              "      box-shadow: 0px 1px 3px 1px rgba(0, 0, 0, 0.15);\n",
              "      filter: drop-shadow(0px 1px 2px rgba(0, 0, 0, 0.3));\n",
              "      fill: #FFFFFF;\n",
              "    }\n",
              "  </style>\n",
              "\n",
              "      <script>\n",
              "        const buttonEl =\n",
              "          document.querySelector('#df-9bfa35a1-b152-4ffa-99eb-90e06059b7bf button.colab-df-convert');\n",
              "        buttonEl.style.display =\n",
              "          google.colab.kernel.accessAllowed ? 'block' : 'none';\n",
              "\n",
              "        async function convertToInteractive(key) {\n",
              "          const element = document.querySelector('#df-9bfa35a1-b152-4ffa-99eb-90e06059b7bf');\n",
              "          const dataTable =\n",
              "            await google.colab.kernel.invokeFunction('convertToInteractive',\n",
              "                                                     [key], {});\n",
              "          if (!dataTable) return;\n",
              "\n",
              "          const docLinkHtml = 'Like what you see? Visit the ' +\n",
              "            '<a target=\"_blank\" href=https://colab.research.google.com/notebooks/data_table.ipynb>data table notebook</a>'\n",
              "            + ' to learn more about interactive tables.';\n",
              "          element.innerHTML = '';\n",
              "          dataTable['output_type'] = 'display_data';\n",
              "          await google.colab.output.renderOutput(dataTable, element);\n",
              "          const docLink = document.createElement('div');\n",
              "          docLink.innerHTML = docLinkHtml;\n",
              "          element.appendChild(docLink);\n",
              "        }\n",
              "      </script>\n",
              "    </div>\n",
              "  </div>\n",
              "  "
            ]
          },
          "metadata": {},
          "execution_count": 22
        }
      ]
    },
    {
      "cell_type": "code",
      "source": [
        "sub.tail()"
      ],
      "metadata": {
        "colab": {
          "base_uri": "https://localhost:8080/",
          "height": 206
        },
        "id": "ee8s0rCx1-2F",
        "outputId": "eb3c79a4-a8bc-4742-99ea-ee45c663c40f"
      },
      "execution_count": null,
      "outputs": [
        {
          "output_type": "execute_result",
          "data": {
            "text/plain": [
              "       happy    year  sex  n_happy\n",
              "10587    3.0  1978.0  1.0      1.0\n",
              "10588    2.0  1978.0  2.0      2.0\n",
              "10589    1.0  1978.0  2.0      3.0\n",
              "10590    2.0  1978.0  1.0      2.0\n",
              "10591    2.0  1978.0  2.0      2.0"
            ],
            "text/html": [
              "\n",
              "  <div id=\"df-c62a49ae-8a38-4161-bf0b-920758f8acfe\">\n",
              "    <div class=\"colab-df-container\">\n",
              "      <div>\n",
              "<style scoped>\n",
              "    .dataframe tbody tr th:only-of-type {\n",
              "        vertical-align: middle;\n",
              "    }\n",
              "\n",
              "    .dataframe tbody tr th {\n",
              "        vertical-align: top;\n",
              "    }\n",
              "\n",
              "    .dataframe thead th {\n",
              "        text-align: right;\n",
              "    }\n",
              "</style>\n",
              "<table border=\"1\" class=\"dataframe\">\n",
              "  <thead>\n",
              "    <tr style=\"text-align: right;\">\n",
              "      <th></th>\n",
              "      <th>happy</th>\n",
              "      <th>year</th>\n",
              "      <th>sex</th>\n",
              "      <th>n_happy</th>\n",
              "    </tr>\n",
              "  </thead>\n",
              "  <tbody>\n",
              "    <tr>\n",
              "      <th>10587</th>\n",
              "      <td>3.0</td>\n",
              "      <td>1978.0</td>\n",
              "      <td>1.0</td>\n",
              "      <td>1.0</td>\n",
              "    </tr>\n",
              "    <tr>\n",
              "      <th>10588</th>\n",
              "      <td>2.0</td>\n",
              "      <td>1978.0</td>\n",
              "      <td>2.0</td>\n",
              "      <td>2.0</td>\n",
              "    </tr>\n",
              "    <tr>\n",
              "      <th>10589</th>\n",
              "      <td>1.0</td>\n",
              "      <td>1978.0</td>\n",
              "      <td>2.0</td>\n",
              "      <td>3.0</td>\n",
              "    </tr>\n",
              "    <tr>\n",
              "      <th>10590</th>\n",
              "      <td>2.0</td>\n",
              "      <td>1978.0</td>\n",
              "      <td>1.0</td>\n",
              "      <td>2.0</td>\n",
              "    </tr>\n",
              "    <tr>\n",
              "      <th>10591</th>\n",
              "      <td>2.0</td>\n",
              "      <td>1978.0</td>\n",
              "      <td>2.0</td>\n",
              "      <td>2.0</td>\n",
              "    </tr>\n",
              "  </tbody>\n",
              "</table>\n",
              "</div>\n",
              "      <button class=\"colab-df-convert\" onclick=\"convertToInteractive('df-c62a49ae-8a38-4161-bf0b-920758f8acfe')\"\n",
              "              title=\"Convert this dataframe to an interactive table.\"\n",
              "              style=\"display:none;\">\n",
              "        \n",
              "  <svg xmlns=\"http://www.w3.org/2000/svg\" height=\"24px\"viewBox=\"0 0 24 24\"\n",
              "       width=\"24px\">\n",
              "    <path d=\"M0 0h24v24H0V0z\" fill=\"none\"/>\n",
              "    <path d=\"M18.56 5.44l.94 2.06.94-2.06 2.06-.94-2.06-.94-.94-2.06-.94 2.06-2.06.94zm-11 1L8.5 8.5l.94-2.06 2.06-.94-2.06-.94L8.5 2.5l-.94 2.06-2.06.94zm10 10l.94 2.06.94-2.06 2.06-.94-2.06-.94-.94-2.06-.94 2.06-2.06.94z\"/><path d=\"M17.41 7.96l-1.37-1.37c-.4-.4-.92-.59-1.43-.59-.52 0-1.04.2-1.43.59L10.3 9.45l-7.72 7.72c-.78.78-.78 2.05 0 2.83L4 21.41c.39.39.9.59 1.41.59.51 0 1.02-.2 1.41-.59l7.78-7.78 2.81-2.81c.8-.78.8-2.07 0-2.86zM5.41 20L4 18.59l7.72-7.72 1.47 1.35L5.41 20z\"/>\n",
              "  </svg>\n",
              "      </button>\n",
              "      \n",
              "  <style>\n",
              "    .colab-df-container {\n",
              "      display:flex;\n",
              "      flex-wrap:wrap;\n",
              "      gap: 12px;\n",
              "    }\n",
              "\n",
              "    .colab-df-convert {\n",
              "      background-color: #E8F0FE;\n",
              "      border: none;\n",
              "      border-radius: 50%;\n",
              "      cursor: pointer;\n",
              "      display: none;\n",
              "      fill: #1967D2;\n",
              "      height: 32px;\n",
              "      padding: 0 0 0 0;\n",
              "      width: 32px;\n",
              "    }\n",
              "\n",
              "    .colab-df-convert:hover {\n",
              "      background-color: #E2EBFA;\n",
              "      box-shadow: 0px 1px 2px rgba(60, 64, 67, 0.3), 0px 1px 3px 1px rgba(60, 64, 67, 0.15);\n",
              "      fill: #174EA6;\n",
              "    }\n",
              "\n",
              "    [theme=dark] .colab-df-convert {\n",
              "      background-color: #3B4455;\n",
              "      fill: #D2E3FC;\n",
              "    }\n",
              "\n",
              "    [theme=dark] .colab-df-convert:hover {\n",
              "      background-color: #434B5C;\n",
              "      box-shadow: 0px 1px 3px 1px rgba(0, 0, 0, 0.15);\n",
              "      filter: drop-shadow(0px 1px 2px rgba(0, 0, 0, 0.3));\n",
              "      fill: #FFFFFF;\n",
              "    }\n",
              "  </style>\n",
              "\n",
              "      <script>\n",
              "        const buttonEl =\n",
              "          document.querySelector('#df-c62a49ae-8a38-4161-bf0b-920758f8acfe button.colab-df-convert');\n",
              "        buttonEl.style.display =\n",
              "          google.colab.kernel.accessAllowed ? 'block' : 'none';\n",
              "\n",
              "        async function convertToInteractive(key) {\n",
              "          const element = document.querySelector('#df-c62a49ae-8a38-4161-bf0b-920758f8acfe');\n",
              "          const dataTable =\n",
              "            await google.colab.kernel.invokeFunction('convertToInteractive',\n",
              "                                                     [key], {});\n",
              "          if (!dataTable) return;\n",
              "\n",
              "          const docLinkHtml = 'Like what you see? Visit the ' +\n",
              "            '<a target=\"_blank\" href=https://colab.research.google.com/notebooks/data_table.ipynb>data table notebook</a>'\n",
              "            + ' to learn more about interactive tables.';\n",
              "          element.innerHTML = '';\n",
              "          dataTable['output_type'] = 'display_data';\n",
              "          await google.colab.output.renderOutput(dataTable, element);\n",
              "          const docLink = document.createElement('div');\n",
              "          docLink.innerHTML = docLinkHtml;\n",
              "          element.appendChild(docLink);\n",
              "        }\n",
              "      </script>\n",
              "    </div>\n",
              "  </div>\n",
              "  "
            ]
          },
          "metadata": {},
          "execution_count": 23
        }
      ]
    },
    {
      "cell_type": "code",
      "source": [
        "sub.describe()"
      ],
      "metadata": {
        "colab": {
          "base_uri": "https://localhost:8080/",
          "height": 300
        },
        "id": "Fwo-2NJa2HPx",
        "outputId": "ab5c658f-4d70-4046-f583-65535d133feb"
      },
      "execution_count": null,
      "outputs": [
        {
          "output_type": "execute_result",
          "data": {
            "text/plain": [
              "              happy          year           sex       n_happy\n",
              "count  10554.000000  10554.000000  10554.000000  10554.000000\n",
              "mean       1.786621   1974.964563      1.542164      2.213379\n",
              "std        0.651953      2.010131      0.498243      0.651953\n",
              "min        1.000000   1972.000000      1.000000      1.000000\n",
              "25%        1.000000   1973.000000      1.000000      2.000000\n",
              "50%        2.000000   1975.000000      2.000000      2.000000\n",
              "75%        2.000000   1977.000000      2.000000      3.000000\n",
              "max        3.000000   1978.000000      2.000000      3.000000"
            ],
            "text/html": [
              "\n",
              "  <div id=\"df-f7975d49-a506-4e8c-98d7-9ee6c6390911\">\n",
              "    <div class=\"colab-df-container\">\n",
              "      <div>\n",
              "<style scoped>\n",
              "    .dataframe tbody tr th:only-of-type {\n",
              "        vertical-align: middle;\n",
              "    }\n",
              "\n",
              "    .dataframe tbody tr th {\n",
              "        vertical-align: top;\n",
              "    }\n",
              "\n",
              "    .dataframe thead th {\n",
              "        text-align: right;\n",
              "    }\n",
              "</style>\n",
              "<table border=\"1\" class=\"dataframe\">\n",
              "  <thead>\n",
              "    <tr style=\"text-align: right;\">\n",
              "      <th></th>\n",
              "      <th>happy</th>\n",
              "      <th>year</th>\n",
              "      <th>sex</th>\n",
              "      <th>n_happy</th>\n",
              "    </tr>\n",
              "  </thead>\n",
              "  <tbody>\n",
              "    <tr>\n",
              "      <th>count</th>\n",
              "      <td>10554.000000</td>\n",
              "      <td>10554.000000</td>\n",
              "      <td>10554.000000</td>\n",
              "      <td>10554.000000</td>\n",
              "    </tr>\n",
              "    <tr>\n",
              "      <th>mean</th>\n",
              "      <td>1.786621</td>\n",
              "      <td>1974.964563</td>\n",
              "      <td>1.542164</td>\n",
              "      <td>2.213379</td>\n",
              "    </tr>\n",
              "    <tr>\n",
              "      <th>std</th>\n",
              "      <td>0.651953</td>\n",
              "      <td>2.010131</td>\n",
              "      <td>0.498243</td>\n",
              "      <td>0.651953</td>\n",
              "    </tr>\n",
              "    <tr>\n",
              "      <th>min</th>\n",
              "      <td>1.000000</td>\n",
              "      <td>1972.000000</td>\n",
              "      <td>1.000000</td>\n",
              "      <td>1.000000</td>\n",
              "    </tr>\n",
              "    <tr>\n",
              "      <th>25%</th>\n",
              "      <td>1.000000</td>\n",
              "      <td>1973.000000</td>\n",
              "      <td>1.000000</td>\n",
              "      <td>2.000000</td>\n",
              "    </tr>\n",
              "    <tr>\n",
              "      <th>50%</th>\n",
              "      <td>2.000000</td>\n",
              "      <td>1975.000000</td>\n",
              "      <td>2.000000</td>\n",
              "      <td>2.000000</td>\n",
              "    </tr>\n",
              "    <tr>\n",
              "      <th>75%</th>\n",
              "      <td>2.000000</td>\n",
              "      <td>1977.000000</td>\n",
              "      <td>2.000000</td>\n",
              "      <td>3.000000</td>\n",
              "    </tr>\n",
              "    <tr>\n",
              "      <th>max</th>\n",
              "      <td>3.000000</td>\n",
              "      <td>1978.000000</td>\n",
              "      <td>2.000000</td>\n",
              "      <td>3.000000</td>\n",
              "    </tr>\n",
              "  </tbody>\n",
              "</table>\n",
              "</div>\n",
              "      <button class=\"colab-df-convert\" onclick=\"convertToInteractive('df-f7975d49-a506-4e8c-98d7-9ee6c6390911')\"\n",
              "              title=\"Convert this dataframe to an interactive table.\"\n",
              "              style=\"display:none;\">\n",
              "        \n",
              "  <svg xmlns=\"http://www.w3.org/2000/svg\" height=\"24px\"viewBox=\"0 0 24 24\"\n",
              "       width=\"24px\">\n",
              "    <path d=\"M0 0h24v24H0V0z\" fill=\"none\"/>\n",
              "    <path d=\"M18.56 5.44l.94 2.06.94-2.06 2.06-.94-2.06-.94-.94-2.06-.94 2.06-2.06.94zm-11 1L8.5 8.5l.94-2.06 2.06-.94-2.06-.94L8.5 2.5l-.94 2.06-2.06.94zm10 10l.94 2.06.94-2.06 2.06-.94-2.06-.94-.94-2.06-.94 2.06-2.06.94z\"/><path d=\"M17.41 7.96l-1.37-1.37c-.4-.4-.92-.59-1.43-.59-.52 0-1.04.2-1.43.59L10.3 9.45l-7.72 7.72c-.78.78-.78 2.05 0 2.83L4 21.41c.39.39.9.59 1.41.59.51 0 1.02-.2 1.41-.59l7.78-7.78 2.81-2.81c.8-.78.8-2.07 0-2.86zM5.41 20L4 18.59l7.72-7.72 1.47 1.35L5.41 20z\"/>\n",
              "  </svg>\n",
              "      </button>\n",
              "      \n",
              "  <style>\n",
              "    .colab-df-container {\n",
              "      display:flex;\n",
              "      flex-wrap:wrap;\n",
              "      gap: 12px;\n",
              "    }\n",
              "\n",
              "    .colab-df-convert {\n",
              "      background-color: #E8F0FE;\n",
              "      border: none;\n",
              "      border-radius: 50%;\n",
              "      cursor: pointer;\n",
              "      display: none;\n",
              "      fill: #1967D2;\n",
              "      height: 32px;\n",
              "      padding: 0 0 0 0;\n",
              "      width: 32px;\n",
              "    }\n",
              "\n",
              "    .colab-df-convert:hover {\n",
              "      background-color: #E2EBFA;\n",
              "      box-shadow: 0px 1px 2px rgba(60, 64, 67, 0.3), 0px 1px 3px 1px rgba(60, 64, 67, 0.15);\n",
              "      fill: #174EA6;\n",
              "    }\n",
              "\n",
              "    [theme=dark] .colab-df-convert {\n",
              "      background-color: #3B4455;\n",
              "      fill: #D2E3FC;\n",
              "    }\n",
              "\n",
              "    [theme=dark] .colab-df-convert:hover {\n",
              "      background-color: #434B5C;\n",
              "      box-shadow: 0px 1px 3px 1px rgba(0, 0, 0, 0.15);\n",
              "      filter: drop-shadow(0px 1px 2px rgba(0, 0, 0, 0.3));\n",
              "      fill: #FFFFFF;\n",
              "    }\n",
              "  </style>\n",
              "\n",
              "      <script>\n",
              "        const buttonEl =\n",
              "          document.querySelector('#df-f7975d49-a506-4e8c-98d7-9ee6c6390911 button.colab-df-convert');\n",
              "        buttonEl.style.display =\n",
              "          google.colab.kernel.accessAllowed ? 'block' : 'none';\n",
              "\n",
              "        async function convertToInteractive(key) {\n",
              "          const element = document.querySelector('#df-f7975d49-a506-4e8c-98d7-9ee6c6390911');\n",
              "          const dataTable =\n",
              "            await google.colab.kernel.invokeFunction('convertToInteractive',\n",
              "                                                     [key], {});\n",
              "          if (!dataTable) return;\n",
              "\n",
              "          const docLinkHtml = 'Like what you see? Visit the ' +\n",
              "            '<a target=\"_blank\" href=https://colab.research.google.com/notebooks/data_table.ipynb>data table notebook</a>'\n",
              "            + ' to learn more about interactive tables.';\n",
              "          element.innerHTML = '';\n",
              "          dataTable['output_type'] = 'display_data';\n",
              "          await google.colab.output.renderOutput(dataTable, element);\n",
              "          const docLink = document.createElement('div');\n",
              "          docLink.innerHTML = docLinkHtml;\n",
              "          element.appendChild(docLink);\n",
              "        }\n",
              "      </script>\n",
              "    </div>\n",
              "  </div>\n",
              "  "
            ]
          },
          "metadata": {},
          "execution_count": 24
        }
      ]
    },
    {
      "cell_type": "code",
      "execution_count": null,
      "metadata": {
        "colab": {
          "base_uri": "https://localhost:8080/"
        },
        "id": "sGKprZyFkNpR",
        "outputId": "45139e38-0d8b-4f9b-9d4d-4bc5ef33d148"
      },
      "outputs": [
        {
          "output_type": "execute_result",
          "data": {
            "text/plain": [
              "2.0    5588\n",
              "3.0    3609\n",
              "1.0    1357\n",
              "Name: n_happy, dtype: int64"
            ]
          },
          "metadata": {},
          "execution_count": 25
        }
      ],
      "source": [
        "sub['n_happy'].value_counts()"
      ]
    },
    {
      "cell_type": "code",
      "source": [
        "sub['n_happy'].value_counts(normalize=True)"
      ],
      "metadata": {
        "colab": {
          "base_uri": "https://localhost:8080/"
        },
        "id": "D4wInM9D22hu",
        "outputId": "10f7dcad-2e3f-4a0c-9559-e3a6faf8a378"
      },
      "execution_count": null,
      "outputs": [
        {
          "output_type": "execute_result",
          "data": {
            "text/plain": [
              "2.0    0.529468\n",
              "3.0    0.341956\n",
              "1.0    0.128577\n",
              "Name: n_happy, dtype: float64"
            ]
          },
          "metadata": {},
          "execution_count": 26
        }
      ]
    },
    {
      "cell_type": "markdown",
      "metadata": {
        "id": "mpZspEBGkNpT"
      },
      "source": [
        "For all of the years, about 34.2% of respondents think that they are very happy; 52.9% think they are pretty happy; and only 12.9% think that they are not too happy."
      ]
    },
    {
      "cell_type": "markdown",
      "source": [
        "## Graph the trend"
      ],
      "metadata": {
        "id": "DQWlu0NzUvn9"
      }
    },
    {
      "cell_type": "code",
      "execution_count": null,
      "metadata": {
        "id": "EMwURVAckNpT"
      },
      "outputs": [],
      "source": [
        "# calculate mean natcrime of each year\n",
        "by_year = sub.groupby('year', as_index = False).agg({\"n_happy\": \"mean\"})\\\n",
        "          .rename(columns = {\"n_happy\": \"mean_happy\"})"
      ]
    },
    {
      "cell_type": "code",
      "execution_count": null,
      "metadata": {
        "colab": {
          "base_uri": "https://localhost:8080/",
          "height": 297
        },
        "id": "5auwGLP1kNpT",
        "outputId": "4180896b-28c5-40b1-e6ed-400ccccd4cc5"
      },
      "outputs": [
        {
          "output_type": "execute_result",
          "data": {
            "text/plain": [
              "<matplotlib.axes._subplots.AxesSubplot at 0x7f3aa9d856d0>"
            ]
          },
          "metadata": {},
          "execution_count": 29
        },
        {
          "output_type": "display_data",
          "data": {
            "text/plain": [
              "<Figure size 432x288 with 1 Axes>"
            ],
            "image/png": "[encoded data removed]"
          },
          "metadata": {
            "needs_background": "light"
          }
        }
      ],
      "source": [
        "# plot the trend using matplotlib \n",
        "by_year.plot(x = 'year', y = 'mean_happy', grid = True)\n",
        "\n",
        "# superimpose a fitted line using the seaborn package\n",
        "sns.regplot(x = 'year', y = 'mean_happy', data = by_year, \n",
        "            scatter = False, ci = None, fit_reg = True, color = 'm')"
      ]
    },
    {
      "cell_type": "markdown",
      "metadata": {
        "id": "qZN6p9zFkNpU"
      },
      "source": [
        "From the picture, we can see that people generally feel happier from 1972 to 1978 with an exception of 1975 when more people feel less happy than the previous year.\n"
      ]
    },
    {
      "cell_type": "markdown",
      "source": [
        "## Fit an OLS model"
      ],
      "metadata": {
        "id": "LiiPCP4dU2FP"
      }
    },
    {
      "cell_type": "code",
      "execution_count": null,
      "metadata": {
        "colab": {
          "base_uri": "https://localhost:8080/",
          "height": 486
        },
        "id": "yQ3mcEWqkNpU",
        "outputId": "9d62e665-293b-466e-f564-e754a700a99c"
      },
      "outputs": [
        {
          "output_type": "execute_result",
          "data": {
            "text/plain": [
              "<class 'statsmodels.iolib.summary.Summary'>\n",
              "\"\"\"\n",
              "                            OLS Regression Results                            \n",
              "==============================================================================\n",
              "Dep. Variable:                n_happy   R-squared:                       0.001\n",
              "Model:                            OLS   Adj. R-squared:                  0.001\n",
              "Method:                 Least Squares   F-statistic:                     11.37\n",
              "Date:                Sun, 16 Oct 2022   Prob (F-statistic):           0.000748\n",
              "Time:                        04:04:44   Log-Likelihood:                -10454.\n",
              "No. Observations:               10554   AIC:                         2.091e+04\n",
              "Df Residuals:                   10552   BIC:                         2.093e+04\n",
              "Df Model:                           1                                         \n",
              "Covariance Type:            nonrobust                                         \n",
              "==============================================================================\n",
              "                 coef    std err          t      P>|t|      [0.025      0.975]\n",
              "------------------------------------------------------------------------------\n",
              "Intercept    -18.8052      6.232     -3.017      0.003     -31.022      -6.589\n",
              "year           0.0106      0.003      3.373      0.001       0.004       0.017\n",
              "==============================================================================\n",
              "Omnibus:                      742.669   Durbin-Watson:                   1.910\n",
              "Prob(Omnibus):                  0.000   Jarque-Bera (JB):              337.676\n",
              "Skew:                          -0.242   Prob(JB):                     4.73e-74\n",
              "Kurtosis:                       2.270   Cond. No.                     1.94e+06\n",
              "==============================================================================\n",
              "\n",
              "Notes:\n",
              "[1] Standard Errors assume that the covariance matrix of the errors is correctly specified.\n",
              "[2] The condition number is large, 1.94e+06. This might indicate that there are\n",
              "strong multicollinearity or other numerical problems.\n",
              "\"\"\""
            ],
            "text/html": [
              "<table class=\"simpletable\">\n",
              "<caption>OLS Regression Results</caption>\n",
              "<tr>\n",
              "  <th>Dep. Variable:</th>         <td>n_happy</td>     <th>  R-squared:         </th> <td>   0.001</td> \n",
              "</tr>\n",
              "<tr>\n",
              "  <th>Model:</th>                   <td>OLS</td>       <th>  Adj. R-squared:    </th> <td>   0.001</td> \n",
              "</tr>\n",
              "<tr>\n",
              "  <th>Method:</th>             <td>Least Squares</td>  <th>  F-statistic:       </th> <td>   11.37</td> \n",
              "</tr>\n",
              "<tr>\n",
              "  <th>Date:</th>             <td>Sun, 16 Oct 2022</td> <th>  Prob (F-statistic):</th> <td>0.000748</td> \n",
              "</tr>\n",
              "<tr>\n",
              "  <th>Time:</th>                 <td>04:04:44</td>     <th>  Log-Likelihood:    </th> <td> -10454.</td> \n",
              "</tr>\n",
              "<tr>\n",
              "  <th>No. Observations:</th>      <td> 10554</td>      <th>  AIC:               </th> <td>2.091e+04</td>\n",
              "</tr>\n",
              "<tr>\n",
              "  <th>Df Residuals:</th>          <td> 10552</td>      <th>  BIC:               </th> <td>2.093e+04</td>\n",
              "</tr>\n",
              "<tr>\n",
              "  <th>Df Model:</th>              <td>     1</td>      <th>                     </th>     <td> </td>    \n",
              "</tr>\n",
              "<tr>\n",
              "  <th>Covariance Type:</th>      <td>nonrobust</td>    <th>                     </th>     <td> </td>    \n",
              "</tr>\n",
              "</table>\n",
              "<table class=\"simpletable\">\n",
              "<tr>\n",
              "      <td></td>         <th>coef</th>     <th>std err</th>      <th>t</th>      <th>P>|t|</th>  <th>[0.025</th>    <th>0.975]</th>  \n",
              "</tr>\n",
              "<tr>\n",
              "  <th>Intercept</th> <td>  -18.8052</td> <td>    6.232</td> <td>   -3.017</td> <td> 0.003</td> <td>  -31.022</td> <td>   -6.589</td>\n",
              "</tr>\n",
              "<tr>\n",
              "  <th>year</th>      <td>    0.0106</td> <td>    0.003</td> <td>    3.373</td> <td> 0.001</td> <td>    0.004</td> <td>    0.017</td>\n",
              "</tr>\n",
              "</table>\n",
              "<table class=\"simpletable\">\n",
              "<tr>\n",
              "  <th>Omnibus:</th>       <td>742.669</td> <th>  Durbin-Watson:     </th> <td>   1.910</td>\n",
              "</tr>\n",
              "<tr>\n",
              "  <th>Prob(Omnibus):</th> <td> 0.000</td>  <th>  Jarque-Bera (JB):  </th> <td> 337.676</td>\n",
              "</tr>\n",
              "<tr>\n",
              "  <th>Skew:</th>          <td>-0.242</td>  <th>  Prob(JB):          </th> <td>4.73e-74</td>\n",
              "</tr>\n",
              "<tr>\n",
              "  <th>Kurtosis:</th>      <td> 2.270</td>  <th>  Cond. No.          </th> <td>1.94e+06</td>\n",
              "</tr>\n",
              "</table><br/><br/>Notes:<br/>[1] Standard Errors assume that the covariance matrix of the errors is correctly specified.<br/>[2] The condition number is large, 1.94e+06. This might indicate that there are<br/>strong multicollinearity or other numerical problems."
            ]
          },
          "metadata": {},
          "execution_count": 31
        }
      ],
      "source": [
        "import statsmodels.api as sm\n",
        "import statsmodels.formula.api as smf\n",
        "\n",
        "# fit regression model\n",
        "lm_happy = smf.ols('n_happy ~ year', data = sub).fit()\n",
        "lm_happy.summary()"
      ]
    },
    {
      "cell_type": "markdown",
      "metadata": {
        "id": "cZCAj7nPkNpW"
      },
      "source": [
        "This model shows that with each year that passes, happiness increases, on average, by 1.06%. The p-value for year coefficient is 0.001, which is quite statistically significant. The Adjusted R-squared from this model is 0.001, suggesting that we can\n",
        "explain about 0.1% of the variation in happiness with time trend, which seems low.\n"
      ]
    },
    {
      "cell_type": "markdown",
      "source": [
        "## Use dummy variables for each year"
      ],
      "metadata": {
        "id": "nUakEqdCVaqd"
      }
    },
    {
      "cell_type": "code",
      "execution_count": null,
      "metadata": {
        "colab": {
          "base_uri": "https://localhost:8080/",
          "height": 558
        },
        "id": "7T4yP4exkNpW",
        "outputId": "0ef4a5b4-a548-47af-cf0b-80eb05549003"
      },
      "outputs": [
        {
          "output_type": "execute_result",
          "data": {
            "text/plain": [
              "<class 'statsmodels.iolib.summary.Summary'>\n",
              "\"\"\"\n",
              "                            OLS Regression Results                            \n",
              "==============================================================================\n",
              "Dep. Variable:                n_happy   R-squared:                       0.003\n",
              "Model:                            OLS   Adj. R-squared:                  0.002\n",
              "Method:                 Least Squares   F-statistic:                     5.263\n",
              "Date:                Sun, 16 Oct 2022   Prob (F-statistic):           2.00e-05\n",
              "Time:                        04:05:06   Log-Likelihood:                -10444.\n",
              "No. Observations:               10554   AIC:                         2.090e+04\n",
              "Df Residuals:                   10547   BIC:                         2.095e+04\n",
              "Df Model:                           6                                         \n",
              "Covariance Type:            nonrobust                                         \n",
              "=====================================================================================\n",
              "                        coef    std err          t      P>|t|      [0.025      0.975]\n",
              "-------------------------------------------------------------------------------------\n",
              "Intercept             2.1376      0.016    131.556      0.000       2.106       2.169\n",
              "C(year)[T.1973.0]     0.0904      0.023      3.866      0.000       0.045       0.136\n",
              "C(year)[T.1974.0]     0.1104      0.023      4.704      0.000       0.064       0.156\n",
              "C(year)[T.1975.0]     0.0604      0.023      2.575      0.010       0.014       0.106\n",
              "C(year)[T.1976.0]     0.0779      0.023      3.330      0.001       0.032       0.124\n",
              "C(year)[T.1977.0]     0.0916      0.023      3.936      0.000       0.046       0.137\n",
              "C(year)[T.1978.0]     0.1060      0.024      4.501      0.000       0.060       0.152\n",
              "==============================================================================\n",
              "Omnibus:                      725.199   Durbin-Watson:                   1.913\n",
              "Prob(Omnibus):                  0.000   Jarque-Bera (JB):              335.135\n",
              "Skew:                          -0.244   Prob(JB):                     1.68e-73\n",
              "Kurtosis:                       2.276   Cond. No.                         7.65\n",
              "==============================================================================\n",
              "\n",
              "Notes:\n",
              "[1] Standard Errors assume that the covariance matrix of the errors is correctly specified.\n",
              "\"\"\""
            ],
            "text/html": [
              "<table class=\"simpletable\">\n",
              "<caption>OLS Regression Results</caption>\n",
              "<tr>\n",
              "  <th>Dep. Variable:</th>         <td>n_happy</td>     <th>  R-squared:         </th> <td>   0.003</td> \n",
              "</tr>\n",
              "<tr>\n",
              "  <th>Model:</th>                   <td>OLS</td>       <th>  Adj. R-squared:    </th> <td>   0.002</td> \n",
              "</tr>\n",
              "<tr>\n",
              "  <th>Method:</th>             <td>Least Squares</td>  <th>  F-statistic:       </th> <td>   5.263</td> \n",
              "</tr>\n",
              "<tr>\n",
              "  <th>Date:</th>             <td>Sun, 16 Oct 2022</td> <th>  Prob (F-statistic):</th> <td>2.00e-05</td> \n",
              "</tr>\n",
              "<tr>\n",
              "  <th>Time:</th>                 <td>04:05:06</td>     <th>  Log-Likelihood:    </th> <td> -10444.</td> \n",
              "</tr>\n",
              "<tr>\n",
              "  <th>No. Observations:</th>      <td> 10554</td>      <th>  AIC:               </th> <td>2.090e+04</td>\n",
              "</tr>\n",
              "<tr>\n",
              "  <th>Df Residuals:</th>          <td> 10547</td>      <th>  BIC:               </th> <td>2.095e+04</td>\n",
              "</tr>\n",
              "<tr>\n",
              "  <th>Df Model:</th>              <td>     6</td>      <th>                     </th>     <td> </td>    \n",
              "</tr>\n",
              "<tr>\n",
              "  <th>Covariance Type:</th>      <td>nonrobust</td>    <th>                     </th>     <td> </td>    \n",
              "</tr>\n",
              "</table>\n",
              "<table class=\"simpletable\">\n",
              "<tr>\n",
              "          <td></td>             <th>coef</th>     <th>std err</th>      <th>t</th>      <th>P>|t|</th>  <th>[0.025</th>    <th>0.975]</th>  \n",
              "</tr>\n",
              "<tr>\n",
              "  <th>Intercept</th>         <td>    2.1376</td> <td>    0.016</td> <td>  131.556</td> <td> 0.000</td> <td>    2.106</td> <td>    2.169</td>\n",
              "</tr>\n",
              "<tr>\n",
              "  <th>C(year)[T.1973.0]</th> <td>    0.0904</td> <td>    0.023</td> <td>    3.866</td> <td> 0.000</td> <td>    0.045</td> <td>    0.136</td>\n",
              "</tr>\n",
              "<tr>\n",
              "  <th>C(year)[T.1974.0]</th> <td>    0.1104</td> <td>    0.023</td> <td>    4.704</td> <td> 0.000</td> <td>    0.064</td> <td>    0.156</td>\n",
              "</tr>\n",
              "<tr>\n",
              "  <th>C(year)[T.1975.0]</th> <td>    0.0604</td> <td>    0.023</td> <td>    2.575</td> <td> 0.010</td> <td>    0.014</td> <td>    0.106</td>\n",
              "</tr>\n",
              "<tr>\n",
              "  <th>C(year)[T.1976.0]</th> <td>    0.0779</td> <td>    0.023</td> <td>    3.330</td> <td> 0.001</td> <td>    0.032</td> <td>    0.124</td>\n",
              "</tr>\n",
              "<tr>\n",
              "  <th>C(year)[T.1977.0]</th> <td>    0.0916</td> <td>    0.023</td> <td>    3.936</td> <td> 0.000</td> <td>    0.046</td> <td>    0.137</td>\n",
              "</tr>\n",
              "<tr>\n",
              "  <th>C(year)[T.1978.0]</th> <td>    0.1060</td> <td>    0.024</td> <td>    4.501</td> <td> 0.000</td> <td>    0.060</td> <td>    0.152</td>\n",
              "</tr>\n",
              "</table>\n",
              "<table class=\"simpletable\">\n",
              "<tr>\n",
              "  <th>Omnibus:</th>       <td>725.199</td> <th>  Durbin-Watson:     </th> <td>   1.913</td>\n",
              "</tr>\n",
              "<tr>\n",
              "  <th>Prob(Omnibus):</th> <td> 0.000</td>  <th>  Jarque-Bera (JB):  </th> <td> 335.135</td>\n",
              "</tr>\n",
              "<tr>\n",
              "  <th>Skew:</th>          <td>-0.244</td>  <th>  Prob(JB):          </th> <td>1.68e-73</td>\n",
              "</tr>\n",
              "<tr>\n",
              "  <th>Kurtosis:</th>      <td> 2.276</td>  <th>  Cond. No.          </th> <td>    7.65</td>\n",
              "</tr>\n",
              "</table><br/><br/>Notes:<br/>[1] Standard Errors assume that the covariance matrix of the errors is correctly specified."
            ]
          },
          "metadata": {},
          "execution_count": 32
        }
      ],
      "source": [
        "# refit model using 'year' as dummy variable\n",
        "lm_happy2 = smf.ols('n_happy ~ C(year)', data = sub).fit()\n",
        "lm_happy2.summary()"
      ]
    },
    {
      "cell_type": "markdown",
      "metadata": {
        "id": "l6er4uUhkNpX"
      },
      "source": [
        "All coefficients of year dummies give positive effects and are statistically significant, except for 1975. It is consistent from what we see in the previous trend figure. We can see that, for example, relative to 1972, happiness increased on average\n",
        "by 0.11 in 1974. The adjusted R-sq for this model is 0.002, which is slightly higher than the OLS model and still quite low.\n"
      ]
    },
    {
      "cell_type": "markdown",
      "metadata": {
        "id": "I4k21546kNpX"
      },
      "source": [
        "## Quadratic model"
      ]
    },
    {
      "cell_type": "code",
      "execution_count": null,
      "metadata": {
        "colab": {
          "base_uri": "https://localhost:8080/",
          "height": 297
        },
        "id": "hEi5VK5kkNpZ",
        "outputId": "fd85cbcf-5a00-4e48-9245-f35780bf12c0"
      },
      "outputs": [
        {
          "output_type": "execute_result",
          "data": {
            "text/plain": [
              "<matplotlib.axes._subplots.AxesSubplot at 0x7f3a9c7d45d0>"
            ]
          },
          "metadata": {},
          "execution_count": 43
        },
        {
          "output_type": "display_data",
          "data": {
            "text/plain": [
              "<Figure size 432x288 with 1 Axes>"
            ],
            "image/png": "[encoded data removed]"
          },
          "metadata": {
            "needs_background": "light"
          }
        }
      ],
      "source": [
        "# plot the trend using matplotlib \n",
        "by_year.plot(x = 'year', y = 'mean_happy', grid = True)\n",
        "\n",
        "# superimpose a quadratic fitted line using the seaborn package, specifying 'order = 2' for quadratic fit\n",
        "sns.regplot(x = 'year', y = 'mean_happy', data = by_year, order = 2,\n",
        "            scatter = False, ci = None, fit_reg = True, color = 'm')"
      ]
    },
    {
      "cell_type": "code",
      "execution_count": null,
      "metadata": {
        "colab": {
          "base_uri": "https://localhost:8080/",
          "height": 508
        },
        "id": "SsdL6NaxkNpa",
        "outputId": "be79e281-67e4-432a-a1ed-5ae91b5ac57c"
      },
      "outputs": [
        {
          "output_type": "execute_result",
          "data": {
            "text/plain": [
              "<class 'statsmodels.iolib.summary.Summary'>\n",
              "\"\"\"\n",
              "                            OLS Regression Results                            \n",
              "==============================================================================\n",
              "Dep. Variable:                n_happy   R-squared:                       0.001\n",
              "Model:                            OLS   Adj. R-squared:                  0.001\n",
              "Method:                 Least Squares   F-statistic:                     7.445\n",
              "Date:                Sun, 16 Oct 2022   Prob (F-statistic):           0.000587\n",
              "Time:                        04:31:12   Log-Likelihood:                -10453.\n",
              "No. Observations:               10554   AIC:                         2.091e+04\n",
              "Df Residuals:                   10551   BIC:                         2.093e+04\n",
              "Df Model:                           2                                         \n",
              "Covariance Type:            nonrobust                                         \n",
              "===================================================================================\n",
              "                      coef    std err          t      P>|t|      [0.025      0.975]\n",
              "-----------------------------------------------------------------------------------\n",
              "Intercept       -1.339e+04   7131.166     -1.877      0.061   -2.74e+04     593.114\n",
              "year               13.5465      7.222      1.876      0.061      -0.609      27.702\n",
              "np.square(year)    -0.0034      0.002     -1.874      0.061      -0.007       0.000\n",
              "==============================================================================\n",
              "Omnibus:                      736.996   Durbin-Watson:                   1.910\n",
              "Prob(Omnibus):                  0.000   Jarque-Bera (JB):              337.187\n",
              "Skew:                          -0.243   Prob(JB):                     6.04e-74\n",
              "Kurtosis:                       2.272   Cond. No.                     4.39e+12\n",
              "==============================================================================\n",
              "\n",
              "Notes:\n",
              "[1] Standard Errors assume that the covariance matrix of the errors is correctly specified.\n",
              "[2] The condition number is large, 4.39e+12. This might indicate that there are\n",
              "strong multicollinearity or other numerical problems.\n",
              "\"\"\""
            ],
            "text/html": [
              "<table class=\"simpletable\">\n",
              "<caption>OLS Regression Results</caption>\n",
              "<tr>\n",
              "  <th>Dep. Variable:</th>         <td>n_happy</td>     <th>  R-squared:         </th> <td>   0.001</td> \n",
              "</tr>\n",
              "<tr>\n",
              "  <th>Model:</th>                   <td>OLS</td>       <th>  Adj. R-squared:    </th> <td>   0.001</td> \n",
              "</tr>\n",
              "<tr>\n",
              "  <th>Method:</th>             <td>Least Squares</td>  <th>  F-statistic:       </th> <td>   7.445</td> \n",
              "</tr>\n",
              "<tr>\n",
              "  <th>Date:</th>             <td>Sun, 16 Oct 2022</td> <th>  Prob (F-statistic):</th> <td>0.000587</td> \n",
              "</tr>\n",
              "<tr>\n",
              "  <th>Time:</th>                 <td>04:31:12</td>     <th>  Log-Likelihood:    </th> <td> -10453.</td> \n",
              "</tr>\n",
              "<tr>\n",
              "  <th>No. Observations:</th>      <td> 10554</td>      <th>  AIC:               </th> <td>2.091e+04</td>\n",
              "</tr>\n",
              "<tr>\n",
              "  <th>Df Residuals:</th>          <td> 10551</td>      <th>  BIC:               </th> <td>2.093e+04</td>\n",
              "</tr>\n",
              "<tr>\n",
              "  <th>Df Model:</th>              <td>     2</td>      <th>                     </th>     <td> </td>    \n",
              "</tr>\n",
              "<tr>\n",
              "  <th>Covariance Type:</th>      <td>nonrobust</td>    <th>                     </th>     <td> </td>    \n",
              "</tr>\n",
              "</table>\n",
              "<table class=\"simpletable\">\n",
              "<tr>\n",
              "         <td></td>            <th>coef</th>     <th>std err</th>      <th>t</th>      <th>P>|t|</th>  <th>[0.025</th>    <th>0.975]</th>  \n",
              "</tr>\n",
              "<tr>\n",
              "  <th>Intercept</th>       <td>-1.339e+04</td> <td> 7131.166</td> <td>   -1.877</td> <td> 0.061</td> <td>-2.74e+04</td> <td>  593.114</td>\n",
              "</tr>\n",
              "<tr>\n",
              "  <th>year</th>            <td>   13.5465</td> <td>    7.222</td> <td>    1.876</td> <td> 0.061</td> <td>   -0.609</td> <td>   27.702</td>\n",
              "</tr>\n",
              "<tr>\n",
              "  <th>np.square(year)</th> <td>   -0.0034</td> <td>    0.002</td> <td>   -1.874</td> <td> 0.061</td> <td>   -0.007</td> <td>    0.000</td>\n",
              "</tr>\n",
              "</table>\n",
              "<table class=\"simpletable\">\n",
              "<tr>\n",
              "  <th>Omnibus:</th>       <td>736.996</td> <th>  Durbin-Watson:     </th> <td>   1.910</td>\n",
              "</tr>\n",
              "<tr>\n",
              "  <th>Prob(Omnibus):</th> <td> 0.000</td>  <th>  Jarque-Bera (JB):  </th> <td> 337.187</td>\n",
              "</tr>\n",
              "<tr>\n",
              "  <th>Skew:</th>          <td>-0.243</td>  <th>  Prob(JB):          </th> <td>6.04e-74</td>\n",
              "</tr>\n",
              "<tr>\n",
              "  <th>Kurtosis:</th>      <td> 2.272</td>  <th>  Cond. No.          </th> <td>4.39e+12</td>\n",
              "</tr>\n",
              "</table><br/><br/>Notes:<br/>[1] Standard Errors assume that the covariance matrix of the errors is correctly specified.<br/>[2] The condition number is large, 4.39e+12. This might indicate that there are<br/>strong multicollinearity or other numerical problems."
            ]
          },
          "metadata": {},
          "execution_count": 44
        }
      ],
      "source": [
        "lm_happy_sq = smf.ols('n_happy ~ year + np.square(year)', data = sub).fit()\n",
        "lm_happy_sq.summary()"
      ]
    },
    {
      "cell_type": "markdown",
      "source": [
        "As we can expect from the picture, the quadratic model has poor fit since the period is short."
      ],
      "metadata": {
        "id": "Jlc3n_Z1WU4s"
      }
    },
    {
      "cell_type": "markdown",
      "metadata": {
        "id": "ULWLGeVEkNpg"
      },
      "source": [
        "## Subsets by gender"
      ]
    },
    {
      "cell_type": "code",
      "source": [
        "sub['male'] = np.where(sub.sex==1, 1, 0)"
      ],
      "metadata": {
        "id": "7kIiTbzmG-Sl"
      },
      "execution_count": null,
      "outputs": []
    },
    {
      "cell_type": "code",
      "source": [
        "sub.head()"
      ],
      "metadata": {
        "colab": {
          "base_uri": "https://localhost:8080/",
          "height": 206
        },
        "id": "K-KnyrRBHTxp",
        "outputId": "3c95983e-422b-4313-f6c2-55b3b95685ae"
      },
      "execution_count": null,
      "outputs": [
        {
          "output_type": "execute_result",
          "data": {
            "text/plain": [
              "   happy    year  sex  n_happy  male\n",
              "0    3.0  1972.0  2.0      1.0     0\n",
              "1    3.0  1972.0  1.0      1.0     1\n",
              "2    2.0  1972.0  2.0      2.0     0\n",
              "3    3.0  1972.0  2.0      1.0     0\n",
              "4    2.0  1972.0  2.0      2.0     0"
            ],
            "text/html": [
              "\n",
              "  <div id=\"df-e149087a-64ae-4240-ab50-676220114ceb\">\n",
              "    <div class=\"colab-df-container\">\n",
              "      <div>\n",
              "<style scoped>\n",
              "    .dataframe tbody tr th:only-of-type {\n",
              "        vertical-align: middle;\n",
              "    }\n",
              "\n",
              "    .dataframe tbody tr th {\n",
              "        vertical-align: top;\n",
              "    }\n",
              "\n",
              "    .dataframe thead th {\n",
              "        text-align: right;\n",
              "    }\n",
              "</style>\n",
              "<table border=\"1\" class=\"dataframe\">\n",
              "  <thead>\n",
              "    <tr style=\"text-align: right;\">\n",
              "      <th></th>\n",
              "      <th>happy</th>\n",
              "      <th>year</th>\n",
              "      <th>sex</th>\n",
              "      <th>n_happy</th>\n",
              "      <th>male</th>\n",
              "    </tr>\n",
              "  </thead>\n",
              "  <tbody>\n",
              "    <tr>\n",
              "      <th>0</th>\n",
              "      <td>3.0</td>\n",
              "      <td>1972.0</td>\n",
              "      <td>2.0</td>\n",
              "      <td>1.0</td>\n",
              "      <td>0</td>\n",
              "    </tr>\n",
              "    <tr>\n",
              "      <th>1</th>\n",
              "      <td>3.0</td>\n",
              "      <td>1972.0</td>\n",
              "      <td>1.0</td>\n",
              "      <td>1.0</td>\n",
              "      <td>1</td>\n",
              "    </tr>\n",
              "    <tr>\n",
              "      <th>2</th>\n",
              "      <td>2.0</td>\n",
              "      <td>1972.0</td>\n",
              "      <td>2.0</td>\n",
              "      <td>2.0</td>\n",
              "      <td>0</td>\n",
              "    </tr>\n",
              "    <tr>\n",
              "      <th>3</th>\n",
              "      <td>3.0</td>\n",
              "      <td>1972.0</td>\n",
              "      <td>2.0</td>\n",
              "      <td>1.0</td>\n",
              "      <td>0</td>\n",
              "    </tr>\n",
              "    <tr>\n",
              "      <th>4</th>\n",
              "      <td>2.0</td>\n",
              "      <td>1972.0</td>\n",
              "      <td>2.0</td>\n",
              "      <td>2.0</td>\n",
              "      <td>0</td>\n",
              "    </tr>\n",
              "  </tbody>\n",
              "</table>\n",
              "</div>\n",
              "      <button class=\"colab-df-convert\" onclick=\"convertToInteractive('df-e149087a-64ae-4240-ab50-676220114ceb')\"\n",
              "              title=\"Convert this dataframe to an interactive table.\"\n",
              "              style=\"display:none;\">\n",
              "        \n",
              "  <svg xmlns=\"http://www.w3.org/2000/svg\" height=\"24px\"viewBox=\"0 0 24 24\"\n",
              "       width=\"24px\">\n",
              "    <path d=\"M0 0h24v24H0V0z\" fill=\"none\"/>\n",
              "    <path d=\"M18.56 5.44l.94 2.06.94-2.06 2.06-.94-2.06-.94-.94-2.06-.94 2.06-2.06.94zm-11 1L8.5 8.5l.94-2.06 2.06-.94-2.06-.94L8.5 2.5l-.94 2.06-2.06.94zm10 10l.94 2.06.94-2.06 2.06-.94-2.06-.94-.94-2.06-.94 2.06-2.06.94z\"/><path d=\"M17.41 7.96l-1.37-1.37c-.4-.4-.92-.59-1.43-.59-.52 0-1.04.2-1.43.59L10.3 9.45l-7.72 7.72c-.78.78-.78 2.05 0 2.83L4 21.41c.39.39.9.59 1.41.59.51 0 1.02-.2 1.41-.59l7.78-7.78 2.81-2.81c.8-.78.8-2.07 0-2.86zM5.41 20L4 18.59l7.72-7.72 1.47 1.35L5.41 20z\"/>\n",
              "  </svg>\n",
              "      </button>\n",
              "      \n",
              "  <style>\n",
              "    .colab-df-container {\n",
              "      display:flex;\n",
              "      flex-wrap:wrap;\n",
              "      gap: 12px;\n",
              "    }\n",
              "\n",
              "    .colab-df-convert {\n",
              "      background-color: #E8F0FE;\n",
              "      border: none;\n",
              "      border-radius: 50%;\n",
              "      cursor: pointer;\n",
              "      display: none;\n",
              "      fill: #1967D2;\n",
              "      height: 32px;\n",
              "      padding: 0 0 0 0;\n",
              "      width: 32px;\n",
              "    }\n",
              "\n",
              "    .colab-df-convert:hover {\n",
              "      background-color: #E2EBFA;\n",
              "      box-shadow: 0px 1px 2px rgba(60, 64, 67, 0.3), 0px 1px 3px 1px rgba(60, 64, 67, 0.15);\n",
              "      fill: #174EA6;\n",
              "    }\n",
              "\n",
              "    [theme=dark] .colab-df-convert {\n",
              "      background-color: #3B4455;\n",
              "      fill: #D2E3FC;\n",
              "    }\n",
              "\n",
              "    [theme=dark] .colab-df-convert:hover {\n",
              "      background-color: #434B5C;\n",
              "      box-shadow: 0px 1px 3px 1px rgba(0, 0, 0, 0.15);\n",
              "      filter: drop-shadow(0px 1px 2px rgba(0, 0, 0, 0.3));\n",
              "      fill: #FFFFFF;\n",
              "    }\n",
              "  </style>\n",
              "\n",
              "      <script>\n",
              "        const buttonEl =\n",
              "          document.querySelector('#df-e149087a-64ae-4240-ab50-676220114ceb button.colab-df-convert');\n",
              "        buttonEl.style.display =\n",
              "          google.colab.kernel.accessAllowed ? 'block' : 'none';\n",
              "\n",
              "        async function convertToInteractive(key) {\n",
              "          const element = document.querySelector('#df-e149087a-64ae-4240-ab50-676220114ceb');\n",
              "          const dataTable =\n",
              "            await google.colab.kernel.invokeFunction('convertToInteractive',\n",
              "                                                     [key], {});\n",
              "          if (!dataTable) return;\n",
              "\n",
              "          const docLinkHtml = 'Like what you see? Visit the ' +\n",
              "            '<a target=\"_blank\" href=https://colab.research.google.com/notebooks/data_table.ipynb>data table notebook</a>'\n",
              "            + ' to learn more about interactive tables.';\n",
              "          element.innerHTML = '';\n",
              "          dataTable['output_type'] = 'display_data';\n",
              "          await google.colab.output.renderOutput(dataTable, element);\n",
              "          const docLink = document.createElement('div');\n",
              "          docLink.innerHTML = docLinkHtml;\n",
              "          element.appendChild(docLink);\n",
              "        }\n",
              "      </script>\n",
              "    </div>\n",
              "  </div>\n",
              "  "
            ]
          },
          "metadata": {},
          "execution_count": 47
        }
      ]
    },
    {
      "cell_type": "code",
      "execution_count": null,
      "metadata": {
        "id": "f4B7JZXbkNpg",
        "outputId": "c91ea798-ee18-403d-dc8a-e4be8bf508bc",
        "colab": {
          "base_uri": "https://localhost:8080/",
          "height": 708
        }
      },
      "outputs": [
        {
          "output_type": "execute_result",
          "data": {
            "text/plain": [
              "<class 'statsmodels.iolib.summary.Summary'>\n",
              "\"\"\"\n",
              "                            OLS Regression Results                            \n",
              "==============================================================================\n",
              "Dep. Variable:                n_happy   R-squared:                       0.004\n",
              "Model:                            OLS   Adj. R-squared:                  0.003\n",
              "Method:                 Least Squares   F-statistic:                     3.526\n",
              "Date:                Sun, 16 Oct 2022   Prob (F-statistic):           1.56e-05\n",
              "Time:                        04:48:30   Log-Likelihood:                -10437.\n",
              "No. Observations:               10554   AIC:                         2.090e+04\n",
              "Df Residuals:                   10540   BIC:                         2.100e+04\n",
              "Df Model:                          13                                         \n",
              "Covariance Type:            nonrobust                                         \n",
              "==========================================================================================\n",
              "                             coef    std err          t      P>|t|      [0.025      0.975]\n",
              "------------------------------------------------------------------------------------------\n",
              "Intercept                  2.1698      0.023     94.339      0.000       2.125       2.215\n",
              "C(year)[T.1973.0]          0.0721      0.033      2.218      0.027       0.008       0.136\n",
              "C(year)[T.1974.0]          0.1239      0.033      3.795      0.000       0.060       0.188\n",
              "C(year)[T.1975.0]          0.0329      0.032      1.017      0.309      -0.031       0.096\n",
              "C(year)[T.1976.0]          0.0555      0.032      1.722      0.085      -0.008       0.119\n",
              "C(year)[T.1977.0]          0.0718      0.032      2.232      0.026       0.009       0.135\n",
              "C(year)[T.1978.0]          0.0731      0.032      2.277      0.023       0.010       0.136\n",
              "male                      -0.0642      0.032     -1.976      0.048      -0.128      -0.001\n",
              "C(year)[T.1973.0]:male     0.0343      0.047      0.734      0.463      -0.057       0.126\n",
              "C(year)[T.1974.0]:male    -0.0338      0.047     -0.720      0.471      -0.126       0.058\n",
              "C(year)[T.1975.0]:male     0.0537      0.047      1.143      0.253      -0.038       0.146\n",
              "C(year)[T.1976.0]:male     0.0422      0.047      0.900      0.368      -0.050       0.134\n",
              "C(year)[T.1977.0]:male     0.0368      0.047      0.788      0.431      -0.055       0.128\n",
              "C(year)[T.1978.0]:male     0.0660      0.047      1.392      0.164      -0.027       0.159\n",
              "==============================================================================\n",
              "Omnibus:                      710.971   Durbin-Watson:                   1.913\n",
              "Prob(Omnibus):                  0.000   Jarque-Bera (JB):              332.993\n",
              "Skew:                          -0.245   Prob(JB):                     4.91e-73\n",
              "Kurtosis:                       2.281   Cond. No.                         19.6\n",
              "==============================================================================\n",
              "\n",
              "Notes:\n",
              "[1] Standard Errors assume that the covariance matrix of the errors is correctly specified.\n",
              "\"\"\""
            ],
            "text/html": [
              "<table class=\"simpletable\">\n",
              "<caption>OLS Regression Results</caption>\n",
              "<tr>\n",
              "  <th>Dep. Variable:</th>         <td>n_happy</td>     <th>  R-squared:         </th> <td>   0.004</td> \n",
              "</tr>\n",
              "<tr>\n",
              "  <th>Model:</th>                   <td>OLS</td>       <th>  Adj. R-squared:    </th> <td>   0.003</td> \n",
              "</tr>\n",
              "<tr>\n",
              "  <th>Method:</th>             <td>Least Squares</td>  <th>  F-statistic:       </th> <td>   3.526</td> \n",
              "</tr>\n",
              "<tr>\n",
              "  <th>Date:</th>             <td>Sun, 16 Oct 2022</td> <th>  Prob (F-statistic):</th> <td>1.56e-05</td> \n",
              "</tr>\n",
              "<tr>\n",
              "  <th>Time:</th>                 <td>04:48:30</td>     <th>  Log-Likelihood:    </th> <td> -10437.</td> \n",
              "</tr>\n",
              "<tr>\n",
              "  <th>No. Observations:</th>      <td> 10554</td>      <th>  AIC:               </th> <td>2.090e+04</td>\n",
              "</tr>\n",
              "<tr>\n",
              "  <th>Df Residuals:</th>          <td> 10540</td>      <th>  BIC:               </th> <td>2.100e+04</td>\n",
              "</tr>\n",
              "<tr>\n",
              "  <th>Df Model:</th>              <td>    13</td>      <th>                     </th>     <td> </td>    \n",
              "</tr>\n",
              "<tr>\n",
              "  <th>Covariance Type:</th>      <td>nonrobust</td>    <th>                     </th>     <td> </td>    \n",
              "</tr>\n",
              "</table>\n",
              "<table class=\"simpletable\">\n",
              "<tr>\n",
              "             <td></td>               <th>coef</th>     <th>std err</th>      <th>t</th>      <th>P>|t|</th>  <th>[0.025</th>    <th>0.975]</th>  \n",
              "</tr>\n",
              "<tr>\n",
              "  <th>Intercept</th>              <td>    2.1698</td> <td>    0.023</td> <td>   94.339</td> <td> 0.000</td> <td>    2.125</td> <td>    2.215</td>\n",
              "</tr>\n",
              "<tr>\n",
              "  <th>C(year)[T.1973.0]</th>      <td>    0.0721</td> <td>    0.033</td> <td>    2.218</td> <td> 0.027</td> <td>    0.008</td> <td>    0.136</td>\n",
              "</tr>\n",
              "<tr>\n",
              "  <th>C(year)[T.1974.0]</th>      <td>    0.1239</td> <td>    0.033</td> <td>    3.795</td> <td> 0.000</td> <td>    0.060</td> <td>    0.188</td>\n",
              "</tr>\n",
              "<tr>\n",
              "  <th>C(year)[T.1975.0]</th>      <td>    0.0329</td> <td>    0.032</td> <td>    1.017</td> <td> 0.309</td> <td>   -0.031</td> <td>    0.096</td>\n",
              "</tr>\n",
              "<tr>\n",
              "  <th>C(year)[T.1976.0]</th>      <td>    0.0555</td> <td>    0.032</td> <td>    1.722</td> <td> 0.085</td> <td>   -0.008</td> <td>    0.119</td>\n",
              "</tr>\n",
              "<tr>\n",
              "  <th>C(year)[T.1977.0]</th>      <td>    0.0718</td> <td>    0.032</td> <td>    2.232</td> <td> 0.026</td> <td>    0.009</td> <td>    0.135</td>\n",
              "</tr>\n",
              "<tr>\n",
              "  <th>C(year)[T.1978.0]</th>      <td>    0.0731</td> <td>    0.032</td> <td>    2.277</td> <td> 0.023</td> <td>    0.010</td> <td>    0.136</td>\n",
              "</tr>\n",
              "<tr>\n",
              "  <th>male</th>                   <td>   -0.0642</td> <td>    0.032</td> <td>   -1.976</td> <td> 0.048</td> <td>   -0.128</td> <td>   -0.001</td>\n",
              "</tr>\n",
              "<tr>\n",
              "  <th>C(year)[T.1973.0]:male</th> <td>    0.0343</td> <td>    0.047</td> <td>    0.734</td> <td> 0.463</td> <td>   -0.057</td> <td>    0.126</td>\n",
              "</tr>\n",
              "<tr>\n",
              "  <th>C(year)[T.1974.0]:male</th> <td>   -0.0338</td> <td>    0.047</td> <td>   -0.720</td> <td> 0.471</td> <td>   -0.126</td> <td>    0.058</td>\n",
              "</tr>\n",
              "<tr>\n",
              "  <th>C(year)[T.1975.0]:male</th> <td>    0.0537</td> <td>    0.047</td> <td>    1.143</td> <td> 0.253</td> <td>   -0.038</td> <td>    0.146</td>\n",
              "</tr>\n",
              "<tr>\n",
              "  <th>C(year)[T.1976.0]:male</th> <td>    0.0422</td> <td>    0.047</td> <td>    0.900</td> <td> 0.368</td> <td>   -0.050</td> <td>    0.134</td>\n",
              "</tr>\n",
              "<tr>\n",
              "  <th>C(year)[T.1977.0]:male</th> <td>    0.0368</td> <td>    0.047</td> <td>    0.788</td> <td> 0.431</td> <td>   -0.055</td> <td>    0.128</td>\n",
              "</tr>\n",
              "<tr>\n",
              "  <th>C(year)[T.1978.0]:male</th> <td>    0.0660</td> <td>    0.047</td> <td>    1.392</td> <td> 0.164</td> <td>   -0.027</td> <td>    0.159</td>\n",
              "</tr>\n",
              "</table>\n",
              "<table class=\"simpletable\">\n",
              "<tr>\n",
              "  <th>Omnibus:</th>       <td>710.971</td> <th>  Durbin-Watson:     </th> <td>   1.913</td>\n",
              "</tr>\n",
              "<tr>\n",
              "  <th>Prob(Omnibus):</th> <td> 0.000</td>  <th>  Jarque-Bera (JB):  </th> <td> 332.993</td>\n",
              "</tr>\n",
              "<tr>\n",
              "  <th>Skew:</th>          <td>-0.245</td>  <th>  Prob(JB):          </th> <td>4.91e-73</td>\n",
              "</tr>\n",
              "<tr>\n",
              "  <th>Kurtosis:</th>      <td> 2.281</td>  <th>  Cond. No.          </th> <td>    19.6</td>\n",
              "</tr>\n",
              "</table><br/><br/>Notes:<br/>[1] Standard Errors assume that the covariance matrix of the errors is correctly specified."
            ]
          },
          "metadata": {},
          "execution_count": 48
        }
      ],
      "source": [
        "lm_happy_gender = smf.ols('n_happy ~ C(year) + male + C(year)*male', data = sub).fit()\n",
        "lm_happy_gender.summary()"
      ]
    },
    {
      "cell_type": "markdown",
      "source": [
        "The interaction terms are not statistically significant, indicating that male and female respondents do not significant difference in happiness."
      ],
      "metadata": {
        "id": "W-LPUfWtOEfq"
      }
    }
  ],
  "metadata": {
    "kernelspec": {
      "display_name": "Python 3.9.12 ('base')",
      "language": "python",
      "name": "python3"
    },
    "language_info": {
      "codemirror_mode": {
        "name": "ipython",
        "version": 3
      },
      "file_extension": ".py",
      "mimetype": "text/x-python",
      "name": "python",
      "nbconvert_exporter": "python",
      "pygments_lexer": "ipython3",
      "version": "3.9.12"
    },
    "vscode": {
      "interpreter": {
        "hash": "585a938ec471c889bf0cce0aed741a99eaf47ca09c0fa8393793bc5bfe77ba11"
      }
    },
    "colab": {
      "provenance": [],
      "toc_visible": true
    }
  },
  "nbformat": 4,
  "nbformat_minor": 0
}